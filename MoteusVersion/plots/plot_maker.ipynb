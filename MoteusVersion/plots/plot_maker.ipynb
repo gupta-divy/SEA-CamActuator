{
 "cells": [
  {
   "cell_type": "code",
   "execution_count": 4,
   "metadata": {},
   "outputs": [
    {
     "data": {
      "image/png": "[encoded data removed]",
      "text/plain": [
       "<Figure size 320x180 with 1 Axes>"
      ]
     },
     "metadata": {},
     "output_type": "display_data"
    },
    {
     "data": {
      "image/png": "[encoded data removed]",
      "text/plain": [
       "<Figure size 250x180 with 1 Axes>"
      ]
     },
     "metadata": {},
     "output_type": "display_data"
    }
   ],
   "source": [
    "import matplotlib.pyplot as plt\n",
    "import matplotlib as mpl\n",
    "mpl.rcParams['pdf.use14corefonts'] = True\n",
    "mpl.rcParams['ps.useafm'] = True  # also for EPS compatibility\n",
    "\n",
    "custom_colors = {\n",
    "    \"orange\" : \"#fb910f\",\n",
    "    \"muted_red\" : \"#f16767\",\n",
    "    \"light_pink\": \"#d8a3a1\",\n",
    "    \"deep_red\": \"#953635\",\n",
    "    \"blush\": \"#efc9c4\",\n",
    "    \"darker_red\": \"#c64f4a\",\n",
    "    \"light_gray\": \"#d3d3d3\",\n",
    "    \"medium_gray\": \"#5e5e5e\"\n",
    "}\n",
    "# Data\n",
    "x = [10, 15, 20, 25, 30, 35, 40, 50, 60, 70, 80, 90, 100, 110, 120, 130]\n",
    "x = [i * 2 for i in x]\n",
    "y = [10, 10, 8.68, 7.62, 6.75, 5.56, 5.00, 4.15, 3.61, 3.24, 2.87, 2.41, 2.15, 1.84, 1.83, 1.48]\n",
    "\n",
    "# Configure style for small figures\n",
    "# ===== PLOT SETUP =====\n",
    "fig_size = (3.2, 1.8)\n",
    "\n",
    "plt.style.use('seaborn-v0_8-paper')\n",
    "\n",
    "plt.rcParams.update({\n",
    "    'font.family': 'sans-serif',\n",
    "    'font.size': 6,\n",
    "    'axes.labelsize': 7,\n",
    "    'xtick.labelsize': 6.5,\n",
    "    'ytick.labelsize': 6.5,\n",
    "    'legend.fontsize': 7,\n",
    "    'axes.linewidth': 0.6,\n",
    "    'grid.linewidth': 0.4,\n",
    "    'lines.linewidth': 1,\n",
    "    'xtick.major.pad': 2,\n",
    "    'ytick.major.pad': 2,\n",
    "})\n",
    "\n",
    "fig, ax1 = plt.subplots(figsize=fig_size)\n",
    "\n",
    "\n",
    "# Create figure (3/4 of single column width)\n",
    "fig, ax = plt.subplots(figsize=(2.5, 1.8))  # 2.5\" wide, 1.8\" tall\n",
    "\n",
    "# Plot (simplified for small size)\n",
    "ax.plot(x, y, 'o-', color=custom_colors['orange'], markeredgecolor='k')\n",
    "\n",
    "# Labels (avoid title if space is tight)\n",
    "ax.set_xlabel('Amplitude (mm)', fontweight='normal')\n",
    "ax.set_ylabel('Frequency (Hz)', fontweight='normal')\n",
    "\n",
    "# Grid and ticks\n",
    "ax.grid(True, linestyle=':', linewidth=0.3, alpha=0.5)\n",
    "ax.tick_params(axis='both', which='major', pad=2)  # Reduce tick label padding\n",
    "\n",
    "# Remove legend or place inside plot (if critical)\n",
    "# ax.legend(loc='upper right', frameon=False, fontsize=6)\n",
    "\n",
    "# Tight layout is critical for small figures\n",
    "plt.tight_layout(pad=0.5)\n",
    "\n",
    "# Save as PDF (vector) or PNG (300+ DPI)\n",
    "plt.savefig('dist_ampl_vs_freq.pdf', dpi=300, bbox_inches='tight')\n",
    "plt.show()"
   ]
  }
 ],
 "metadata": {
  "kernelspec": {
   "display_name": "tf_env",
   "language": "python",
   "name": "python3"
  },
  "language_info": {
   "codemirror_mode": {
    "name": "ipython",
    "version": 3
   },
   "file_extension": ".py",
   "mimetype": "text/x-python",
   "name": "python",
   "nbconvert_exporter": "python",
   "pygments_lexer": "ipython3",
   "version": "3.10.11"
  }
 },
 "nbformat": 4,
 "nbformat_minor": 2
}
